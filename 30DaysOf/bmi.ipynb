{
 "cells": [
  {
   "cell_type": "code",
   "execution_count": 4,
   "metadata": {},
   "outputs": [
    {
     "data": {
      "text/plain": [
       "'Underweight'"
      ]
     },
     "execution_count": 4,
     "metadata": {},
     "output_type": "execute_result"
    }
   ],
   "source": [
    "# Day 5 of the 30 Days of Data Science Challenge\n",
    "\n",
    "# BMI Calculator\n",
    "# BMI = weight (kg) / height (m) ^ 2\n",
    "\n",
    "height = float(input(\"Enter your height in m: \"))\n",
    "weight = float(input(\"Enter your weight in kg: \"))\n",
    "\n",
    "def bmi(height, weight):\n",
    "    bmi = weight / (height ** 2)\n",
    "    if bmi < 18.5:\n",
    "        return \"Underweight\"\n",
    "    if bmi > 25:\n",
    "        return \"Overweight\"\n",
    "    else:\n",
    "        return \"normal weight\"\n",
    "\n",
    "bmi(height, weight)"
   ]
  },
  {
   "cell_type": "code",
   "execution_count": null,
   "metadata": {},
   "outputs": [],
   "source": [
    "# Day 6 of 30 Days of Data Science\n",
    "\n",
    "# moving our code to github"
   ]
  }
 ],
 "metadata": {
  "kernelspec": {
   "display_name": "Python 3.10.8 64-bit (microsoft store)",
   "language": "python",
   "name": "python3"
  },
  "language_info": {
   "codemirror_mode": {
    "name": "ipython",
    "version": 3
   },
   "file_extension": ".py",
   "mimetype": "text/x-python",
   "name": "python",
   "nbconvert_exporter": "python",
   "pygments_lexer": "ipython3",
   "version": "3.10.8"
  },
  "orig_nbformat": 4,
  "vscode": {
   "interpreter": {
    "hash": "a5ab9a352a3492dbdad4d8c553a26f7ae7b46dd05b580a15c480b85daf161167"
   }
  }
 },
 "nbformat": 4,
 "nbformat_minor": 2
}
