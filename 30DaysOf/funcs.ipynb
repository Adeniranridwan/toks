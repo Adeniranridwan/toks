{
 "cells": [
  {
   "cell_type": "code",
   "execution_count": 6,
   "metadata": {},
   "outputs": [
    {
     "data": {
      "text/plain": [
       "'Hi Bethany'"
      ]
     },
     "execution_count": 6,
     "metadata": {},
     "output_type": "execute_result"
    }
   ],
   "source": [
    "# day 4 of the #30DaysOfDataScience\n",
    "\n",
    "# functions = reuse \n",
    "\n",
    "# return a value\n",
    "\n",
    "# requires inputs, some dont\n",
    "\n",
    "def greet():\n",
    "    return \"Hi\"\n",
    "\n",
    "greet()\n",
    "\n",
    "name = input(\"What is your name? \")\n",
    "def greet(name):\n",
    "    return \"Hi \" + name\n",
    "\n",
    "greet(name)"
   ]
  }
 ],
 "metadata": {
  "kernelspec": {
   "display_name": "Python 3.10.8 64-bit (microsoft store)",
   "language": "python",
   "name": "python3"
  },
  "language_info": {
   "codemirror_mode": {
    "name": "ipython",
    "version": 3
   },
   "file_extension": ".py",
   "mimetype": "text/x-python",
   "name": "python",
   "nbconvert_exporter": "python",
   "pygments_lexer": "ipython3",
   "version": "3.10.8"
  },
  "orig_nbformat": 4,
  "vscode": {
   "interpreter": {
    "hash": "a5ab9a352a3492dbdad4d8c553a26f7ae7b46dd05b580a15c480b85daf161167"
   }
  }
 },
 "nbformat": 4,
 "nbformat_minor": 2
}
