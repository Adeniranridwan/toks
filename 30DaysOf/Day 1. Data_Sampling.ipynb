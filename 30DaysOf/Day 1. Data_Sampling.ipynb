{
 "cells": [
  {
   "cell_type": "markdown",
   "id": "bb467123-2d27-42bf-8b1b-951639089fe4",
   "metadata": {},
   "source": [
    "# Introduction"
   ]
  },
  {
   "cell_type": "markdown",
   "id": "b1c9c70b-398e-42c8-9a3d-7e0fc8599ddc",
   "metadata": {
    "tags": []
   },
   "source": [
    "<p style= \"background-color:black;\n",
    "           font-family:Georgia;\n",
    "           color:gold;font-size:110%;text-align:center;border-radius:10px 10px;border-style:solid;border-width:3px;border-color:gold;\"><b>Technical Debt</b></p>"
   ]
  },
  {
   "cell_type": "markdown",
   "id": "de8f9739-ca34-410d-ada9-c1b5944b5d06",
   "metadata": {},
   "source": [
    "- Technical Debt - are parts of the requirements that are omitted, not done or are at a low priority of importance\n",
    "\n",
    "Note: Usually, technical debt comes from producing codes that’s ok for the short-term, but usually can’t scale in the long term."
   ]
  },
  {
   "cell_type": "markdown",
   "id": "53a6c2f8-3237-4648-818a-d5e78f3112d9",
   "metadata": {},
   "source": [
    "<p style= \"background-color:black;\n",
    "           font-family:Georgia;\n",
    "           color:gold;font-size:110%;text-align:center;border-radius:10px 10px;border-style:solid;border-width:3px;border-color:gold;\"><b>Causes of Technical Debt</b></p>"
   ]
  },
  {
   "cell_type": "markdown",
   "id": "3747822c-b34e-42ef-b20b-a37fec0c2a4a",
   "metadata": {},
   "source": [
    "1. Rush\n",
    "2. Bad code (Poorly written)\n",
    "3. Intentional (Sometimes we might choose to accurre technical debt for strategic reasons)"
   ]
  },
  {
   "cell_type": "markdown",
   "id": "7a86f9e5-b323-40fd-9676-4095f6c4b6ae",
   "metadata": {},
   "source": [
    "<p style= \"background-color:black;\n",
    "           font-family:Georgia;\n",
    "           color:gold;font-size:110%;text-align:center;border-radius:10px 10px;border-style:solid;border-width:3px;border-color:gold;\"><b>Types of Technical Debt</b></p>\n"
   ]
  },
  {
   "cell_type": "markdown",
   "id": "e5b7150d-14d0-4166-b821-fbd544f3bebb",
   "metadata": {},
   "source": [
    "- DELIBRATE: taking the easy way out\n",
    "- ACCIDENTAL: changing requirements may need new tasks, which may make the software become outdated, difficult.\n",
    "- BIT-ROT: adding small incremental changes perhaps by multiple team members, without proper understanding of the design, code structure. Ending up with layer, up layer of fixes and short cuts, resulting in the reduced process the software efficiency, ends up Becoming well; rotten "
   ]
  },
  {
   "cell_type": "markdown",
   "id": "1b81e186-99a4-43e6-9320-1c5e04aa4b0a",
   "metadata": {},
   "source": [
    "\n",
    "\n",
    "<p style= \"background-color:black;\n",
    "           font-family:Georgia;\n",
    "           color:gold;font-size:110%;text-align:center;border-radius:10px 10px;border-style:solid;border-width:3px;border-color:gold;\"><b>Some technical debt we must pay</b></p>\n"
   ]
  },
  {
   "cell_type": "markdown",
   "id": "1cd5c7cc-2b5d-43a9-87cd-253631801aa7",
   "metadata": {},
   "source": [
    "- Untested code\n",
    "- Bad name convention\n",
    "- Limited code documentataion"
   ]
  },
  {
   "cell_type": "markdown",
   "id": "d909651a-08ab-45a5-9b93-05aa75864d58",
   "metadata": {},
   "source": [
    "<p style= \"background-color:black;\n",
    "           font-family:Georgia;\n",
    "           color:gold;font-size:110%;text-align:center;border-radius:10px 10px;border-style:solid;border-width:3px;border-color:gold;\"><b>Tips to keep technical debt under control</b></p>\n"
   ]
  },
  {
   "cell_type": "markdown",
   "id": "9a3e18c5-b188-402f-9d2a-e104b0aafa05",
   "metadata": {},
   "source": [
    "- Think twice, code once\n",
    "- Code review\n",
    "- Always leave time in sprint to deal with some technical debt,\n",
    "so the debt can be gradually paid instead of trying to pay it In a huge sum at once,\n",
    "and that’s usually at a costly time.\n",
    "- Define set of conviction and practices (Team responsibility)"
   ]
  },
  {
   "cell_type": "markdown",
   "id": "c6653f4c-54ff-4ad2-84aa-c6dc6b4c3fc0",
   "metadata": {},
   "source": [
    "\n",
    "\n",
    "<p style= \"background-color:black;\n",
    "           font-family:Georgia;\n",
    "           color:gold;font-size:110%;text-align:center;border-radius:10px 10px;border-style:solid;border-width:3px;border-color:gold;\"><b>Can you ever avoid Technical Debt?</b></p>\n"
   ]
  },
  {
   "cell_type": "markdown",
   "id": "137cc952-c2e5-4a3f-ae30-dbcfcbe29240",
   "metadata": {},
   "source": [
    "It’s important to not that, most often than not, technical debt cannot be avoided.\n",
    "Being open to accuring a little technical debt can be benefitial.\n",
    "As this can ensure quicker timelines to supposed feature deliveries, which inturn keeps our clients happy."
   ]
  },
  {
   "cell_type": "markdown",
   "id": "e4e703c3-4d4a-4167-8a7e-c0639ba23efd",
   "metadata": {},
   "source": [
    "\n",
    "\n",
    "<p style= \"background-color:black;\n",
    "           font-family:Georgia;\n",
    "           color:white;font-size:110%;text-align:center;border-radius:10px 10px;border-style:solid;border-width:3px;border-color:red;\"><b>Lets Get Started</b></p>\n"
   ]
  },
  {
   "cell_type": "code",
   "execution_count": 1,
   "id": "a3f5d4e6-d924-479e-9738-f59b1172c670",
   "metadata": {},
   "outputs": [],
   "source": [
    "#data preprocessing\n",
    "import pandas as pd "
   ]
  },
  {
   "cell_type": "markdown",
   "id": "62746042-dcdc-4523-b79f-4f28d3b86dee",
   "metadata": {},
   "source": [
    "- read_csv() - read_csv function allow excel (csv format) to be readable"
   ]
  },
  {
   "cell_type": "code",
   "execution_count": 2,
   "id": "931eb39c-dfd3-401e-aed2-0a7daff759e6",
   "metadata": {},
   "outputs": [],
   "source": [
    "#read trainset\n",
    "train = pd.read_csv('fraudTrain.csv')"
   ]
  },
  {
   "cell_type": "markdown",
   "id": "70cb2a19-87f6-4022-918a-b256d759a3da",
   "metadata": {
    "tags": []
   },
   "source": [
    "- shape - print the rows and columns, \n",
    "- print row only - shape[0]\n",
    "- print column only - shape[1]"
   ]
  },
  {
   "cell_type": "code",
   "execution_count": 3,
   "id": "265fccbd-709c-4e68-9586-562a84b97a47",
   "metadata": {},
   "outputs": [
    {
     "name": "stdout",
     "output_type": "stream",
     "text": [
      "(1296675, 23) (555719, 23)\n"
     ]
    }
   ],
   "source": [
    "#print trainset\n",
    "print (train.shape)"
   ]
  },
  {
   "cell_type": "markdown",
   "id": "64f7b7ba-f1dd-49a0-8752-97f6e629957b",
   "metadata": {},
   "source": [
    "- sample() - sample function allows a subset of defined numbers of data to be selected randomly\n",
    "- random_state - allow the sample data selected to be reproduceable. NB: the no can be any number, just to hold the state"
   ]
  },
  {
   "cell_type": "code",
   "execution_count": 5,
   "id": "5ba7c911-f5af-4da6-a111-85809c63f0d8",
   "metadata": {},
   "outputs": [],
   "source": [
    "#select 10000 random sample from trainset\n",
    "sample_train = train.sample(10000, random_state = 42)"
   ]
  },
  {
   "cell_type": "markdown",
   "id": "d2727679-daf9-4fb0-811c-b65816c5337c",
   "metadata": {},
   "source": [
    "- reset_index() - reset_index function reset the unordered index number"
   ]
  },
  {
   "cell_type": "code",
   "execution_count": 6,
   "id": "8de284ae-b910-4bf8-82a8-9f7f249f33b0",
   "metadata": {},
   "outputs": [],
   "source": [
    "#reset the randomized sample trainset data index to avoid error for future use\n",
    "sample_train = sample_train.reset_index(drop = True)"
   ]
  },
  {
   "cell_type": "code",
   "execution_count": 7,
   "id": "1523ef4a-f584-41b1-bad1-34b25597fb21",
   "metadata": {},
   "outputs": [
    {
     "name": "stdout",
     "output_type": "stream",
     "text": [
      "(10000, 23) (10000, 23)\n"
     ]
    }
   ],
   "source": [
    "#print trainset & testset shape(rows and columns)\n",
    "print (sample_train.shape, sample_train.shape)"
   ]
  },
  {
   "cell_type": "code",
   "execution_count": 11,
   "id": "d43ceace",
   "metadata": {},
   "outputs": [
    {
     "data": {
      "text/plain": [
       "0    0.9941\n",
       "1    0.0059\n",
       "Name: is_fraud, dtype: float64"
      ]
     },
     "execution_count": 11,
     "metadata": {},
     "output_type": "execute_result"
    }
   ],
   "source": [
    "sample_train['is_fraud'].value_counts(normalize=True)"
   ]
  },
  {
   "cell_type": "code",
   "execution_count": 12,
   "id": "411a507f",
   "metadata": {},
   "outputs": [
    {
     "data": {
      "text/plain": [
       "0    0.994211\n",
       "1    0.005789\n",
       "Name: is_fraud, dtype: float64"
      ]
     },
     "execution_count": 12,
     "metadata": {},
     "output_type": "execute_result"
    }
   ],
   "source": [
    "train['is_fraud'].value_counts(normalize=True)"
   ]
  },
  {
   "cell_type": "markdown",
   "id": "8f52df9b-9bce-4ef4-868e-d59303b7cf7c",
   "metadata": {},
   "source": [
    "-  to_csv() - to_csv function allow a data to be saved as a csv file\n",
    "- index : index = False disallow the to_csv function not to create an index as a new column "
   ]
  },
  {
   "cell_type": "code",
   "execution_count": 13,
   "id": "91be86c7-b449-4f38-8d4f-212004d7cbf4",
   "metadata": {},
   "outputs": [],
   "source": [
    "#save randomized sample of trainset as an excel file(csv format)\n",
    "sample_train.to_csv('fraud_train_sample.csv', index=False)"
   ]
  },
  {
   "cell_type": "code",
   "execution_count": null,
   "id": "f7ac2df9-486c-4b93-b641-7294898a40a2",
   "metadata": {},
   "outputs": [],
   "source": []
  }
 ],
 "metadata": {
  "kernelspec": {
   "display_name": "Python 3 (ipykernel)",
   "language": "python",
   "name": "python3"
  },
  "language_info": {
   "codemirror_mode": {
    "name": "ipython",
    "version": 3
   },
   "file_extension": ".py",
   "mimetype": "text/x-python",
   "name": "python",
   "nbconvert_exporter": "python",
   "pygments_lexer": "ipython3",
   "version": "3.9.12"
  }
 },
 "nbformat": 4,
 "nbformat_minor": 5
}
