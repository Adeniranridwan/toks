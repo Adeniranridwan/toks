{
 "cells": [
  {
   "cell_type": "code",
   "execution_count": 1,
   "metadata": {},
   "outputs": [
    {
     "name": "stdout",
     "output_type": "stream",
     "text": [
      "You entered:  we\n",
      "You entered:  we\n",
      "You entered:  we\n",
      "You entered:  stop\n"
     ]
    }
   ],
   "source": [
    "# while = true\n",
    "\n",
    "x = \"\"\n",
    "\n",
    "while x != \"stop\":\n",
    "    x = input(\"Enter a number: \")\n",
    "    print(\"You entered: \", x)"
   ]
  }
 ],
 "metadata": {
  "kernelspec": {
   "display_name": "Python 3.10.8 64-bit (microsoft store)",
   "language": "python",
   "name": "python3"
  },
  "language_info": {
   "codemirror_mode": {
    "name": "ipython",
    "version": 3
   },
   "file_extension": ".py",
   "mimetype": "text/x-python",
   "name": "python",
   "nbconvert_exporter": "python",
   "pygments_lexer": "ipython3",
   "version": "3.10.8"
  },
  "orig_nbformat": 4,
  "vscode": {
   "interpreter": {
    "hash": "a5ab9a352a3492dbdad4d8c553a26f7ae7b46dd05b580a15c480b85daf161167"
   }
  }
 },
 "nbformat": 4,
 "nbformat_minor": 2
}
